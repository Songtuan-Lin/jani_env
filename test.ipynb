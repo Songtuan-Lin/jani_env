{
 "cells": [
  {
   "cell_type": "code",
   "execution_count": 2,
   "id": "1a13f152",
   "metadata": {},
   "outputs": [],
   "source": [
    "import json\n",
    "\n",
    "from pathlib import Path\n",
    "from momba.jani.load_model import _expression\n",
    "\n",
    "\n",
    "json_path = Path(Path.home() / \"evaluation\" / \"plaja\" / \"old_0.5\" / \"mod_linetrack_17_10_128_128\" / \"mod_linetrack_17_10.jani\")\n",
    "jani_model = json.loads(json_path.read_text(\"utf-8\"))\n",
    "props_file_path = Path(Path.home() / \"evaluation\" / \"plaja\" / \"old_0.5\" / \"mod_linetrack_17_10_128_128\" / \"additional_mod_linetrack_17_10_random_starts_300.jani\")\n",
    "additional_props = json.loads(props_file_path.read_text(\"utf-8\"))"
   ]
  },
  {
   "cell_type": "code",
   "execution_count": null,
   "id": "15af818a",
   "metadata": {},
   "outputs": [
    {
     "name": "stdout",
     "output_type": "stream",
     "text": [
      "+\n"
     ]
    }
   ],
   "source": [
    "print(additional_props[\"properties\"][0][\"expression\"][\"objective\"][\"goal-potential\"])"
   ]
  },
  {
   "cell_type": "code",
   "execution_count": 16,
   "id": "e235880b",
   "metadata": {},
   "outputs": [],
   "source": [
    "goal_potential_exp = _expression(additional_props[\"properties\"][0][\"expression\"][\"objective\"][\"goal-potential\"])"
   ]
  },
  {
   "cell_type": "code",
   "execution_count": 17,
   "id": "d17897a9",
   "metadata": {},
   "outputs": [
    {
     "name": "stdout",
     "output_type": "stream",
     "text": [
      "ArithmeticBinary(operator=<ArithmeticBinaryOperator.ADD: ('+', <function ArithmeticBinaryOperator.<lambda> at 0x75a3783e2680>)>, left=ArithmeticBinary(operator=<ArithmeticBinaryOperator.MUL: ('*', <function ArithmeticBinaryOperator.<lambda> at 0x75a3783e27a0>)>, left=IntegerConstant(integer=10), right=ArithmeticBinary(operator=<ArithmeticBinaryOperator.MIN: ('min', <function ArithmeticBinaryOperator.<lambda> at 0x75a3783e2a70>)>, left=IntegerConstant(integer=17), right=Name(identifier='location_load_9'))), right=ArithmeticBinary(operator=<ArithmeticBinaryOperator.ADD: ('+', <function ArithmeticBinaryOperator.<lambda> at 0x75a3783e2680>)>, left=Conditional(condition=Boolean(operator=<BooleanOperator.AND: ('∧', <function BooleanOperator.<lambda> at 0x75a3783e2200>)>, left=Equality(operator=<EqualityOperator.EQ: ('=', <function EqualityOperator.<lambda> at 0x75a3783e2dd0>)>, left=Name(identifier='truck_0'), right=IntegerConstant(integer=0)), right=Comparison(operator=<ComparisonOperator.LE: ('≤', False, <function ComparisonOperator.<lambda> at 0x75a3783e3130>)>, left=IntegerConstant(integer=1), right=Name(identifier='truck_load_0'))), consequence=IntegerConstant(integer=10), alternative=IntegerConstant(integer=0)), right=ArithmeticBinary(operator=<ArithmeticBinaryOperator.ADD: ('+', <function ArithmeticBinaryOperator.<lambda> at 0x75a3783e2680>)>, left=Conditional(condition=Boolean(operator=<BooleanOperator.AND: ('∧', <function BooleanOperator.<lambda> at 0x75a3783e2200>)>, left=Equality(operator=<EqualityOperator.EQ: ('=', <function EqualityOperator.<lambda> at 0x75a3783e2dd0>)>, left=Name(identifier='truck_0'), right=IntegerConstant(integer=1)), right=Comparison(operator=<ComparisonOperator.LE: ('≤', False, <function ComparisonOperator.<lambda> at 0x75a3783e3130>)>, left=IntegerConstant(integer=1), right=Name(identifier='truck_load_0'))), consequence=IntegerConstant(integer=10), alternative=IntegerConstant(integer=0)), right=ArithmeticBinary(operator=<ArithmeticBinaryOperator.ADD: ('+', <function ArithmeticBinaryOperator.<lambda> at 0x75a3783e2680>)>, left=Conditional(condition=Boolean(operator=<BooleanOperator.AND: ('∧', <function BooleanOperator.<lambda> at 0x75a3783e2200>)>, left=Equality(operator=<EqualityOperator.EQ: ('=', <function EqualityOperator.<lambda> at 0x75a3783e2dd0>)>, left=Name(identifier='truck_0'), right=IntegerConstant(integer=2)), right=Comparison(operator=<ComparisonOperator.LE: ('≤', False, <function ComparisonOperator.<lambda> at 0x75a3783e3130>)>, left=IntegerConstant(integer=1), right=Name(identifier='truck_load_0'))), consequence=IntegerConstant(integer=10), alternative=IntegerConstant(integer=0)), right=ArithmeticBinary(operator=<ArithmeticBinaryOperator.ADD: ('+', <function ArithmeticBinaryOperator.<lambda> at 0x75a3783e2680>)>, left=Conditional(condition=Boolean(operator=<BooleanOperator.AND: ('∧', <function BooleanOperator.<lambda> at 0x75a3783e2200>)>, left=Equality(operator=<EqualityOperator.EQ: ('=', <function EqualityOperator.<lambda> at 0x75a3783e2dd0>)>, left=Name(identifier='truck_0'), right=IntegerConstant(integer=3)), right=Comparison(operator=<ComparisonOperator.LE: ('≤', False, <function ComparisonOperator.<lambda> at 0x75a3783e3130>)>, left=IntegerConstant(integer=1), right=Name(identifier='truck_load_0'))), consequence=IntegerConstant(integer=10), alternative=IntegerConstant(integer=0)), right=ArithmeticBinary(operator=<ArithmeticBinaryOperator.ADD: ('+', <function ArithmeticBinaryOperator.<lambda> at 0x75a3783e2680>)>, left=Conditional(condition=Boolean(operator=<BooleanOperator.AND: ('∧', <function BooleanOperator.<lambda> at 0x75a3783e2200>)>, left=Equality(operator=<EqualityOperator.EQ: ('=', <function EqualityOperator.<lambda> at 0x75a3783e2dd0>)>, left=Name(identifier='truck_0'), right=IntegerConstant(integer=4)), right=Comparison(operator=<ComparisonOperator.LE: ('≤', False, <function ComparisonOperator.<lambda> at 0x75a3783e3130>)>, left=IntegerConstant(integer=1), right=Name(identifier='truck_load_0'))), consequence=IntegerConstant(integer=10), alternative=IntegerConstant(integer=0)), right=ArithmeticBinary(operator=<ArithmeticBinaryOperator.ADD: ('+', <function ArithmeticBinaryOperator.<lambda> at 0x75a3783e2680>)>, left=Conditional(condition=Boolean(operator=<BooleanOperator.AND: ('∧', <function BooleanOperator.<lambda> at 0x75a3783e2200>)>, left=Equality(operator=<EqualityOperator.EQ: ('=', <function EqualityOperator.<lambda> at 0x75a3783e2dd0>)>, left=Name(identifier='truck_0'), right=IntegerConstant(integer=5)), right=Comparison(operator=<ComparisonOperator.LE: ('≤', False, <function ComparisonOperator.<lambda> at 0x75a3783e3130>)>, left=IntegerConstant(integer=1), right=Name(identifier='truck_load_0'))), consequence=IntegerConstant(integer=10), alternative=IntegerConstant(integer=0)), right=ArithmeticBinary(operator=<ArithmeticBinaryOperator.ADD: ('+', <function ArithmeticBinaryOperator.<lambda> at 0x75a3783e2680>)>, left=Conditional(condition=Boolean(operator=<BooleanOperator.AND: ('∧', <function BooleanOperator.<lambda> at 0x75a3783e2200>)>, left=Equality(operator=<EqualityOperator.EQ: ('=', <function EqualityOperator.<lambda> at 0x75a3783e2dd0>)>, left=Name(identifier='truck_0'), right=IntegerConstant(integer=6)), right=Comparison(operator=<ComparisonOperator.LE: ('≤', False, <function ComparisonOperator.<lambda> at 0x75a3783e3130>)>, left=IntegerConstant(integer=1), right=Name(identifier='truck_load_0'))), consequence=IntegerConstant(integer=10), alternative=IntegerConstant(integer=0)), right=ArithmeticBinary(operator=<ArithmeticBinaryOperator.ADD: ('+', <function ArithmeticBinaryOperator.<lambda> at 0x75a3783e2680>)>, left=Conditional(condition=Boolean(operator=<BooleanOperator.AND: ('∧', <function BooleanOperator.<lambda> at 0x75a3783e2200>)>, left=Equality(operator=<EqualityOperator.EQ: ('=', <function EqualityOperator.<lambda> at 0x75a3783e2dd0>)>, left=Name(identifier='truck_0'), right=IntegerConstant(integer=7)), right=Comparison(operator=<ComparisonOperator.LE: ('≤', False, <function ComparisonOperator.<lambda> at 0x75a3783e3130>)>, left=IntegerConstant(integer=1), right=Name(identifier='truck_load_0'))), consequence=IntegerConstant(integer=10), alternative=IntegerConstant(integer=0)), right=Conditional(condition=Boolean(operator=<BooleanOperator.AND: ('∧', <function BooleanOperator.<lambda> at 0x75a3783e2200>)>, left=Equality(operator=<EqualityOperator.EQ: ('=', <function EqualityOperator.<lambda> at 0x75a3783e2dd0>)>, left=Name(identifier='truck_0'), right=IntegerConstant(integer=8)), right=Comparison(operator=<ComparisonOperator.LE: ('≤', False, <function ComparisonOperator.<lambda> at 0x75a3783e3130>)>, left=IntegerConstant(integer=1), right=Name(identifier='truck_load_0'))), consequence=IntegerConstant(integer=10), alternative=IntegerConstant(integer=0)))))))))))\n"
     ]
    }
   ],
   "source": [
    "print(goal_potential_exp)"
   ]
  },
  {
   "cell_type": "code",
   "execution_count": 26,
   "id": "0362d47d",
   "metadata": {},
   "outputs": [
    {
     "name": "stdout",
     "output_type": "stream",
     "text": [
      "300\n"
     ]
    }
   ],
   "source": [
    "print(len(additional_props[\"properties\"][0][\"expression\"][\"start\"]['values']))"
   ]
  },
  {
   "cell_type": "code",
   "execution_count": 11,
   "id": "e0929f5f",
   "metadata": {},
   "outputs": [],
   "source": [
    "exp = _expression(additional_props[\"properties\"][0][\"expression\"][\"objective\"][\"goal\"][\"exp\"])\n"
   ]
  },
  {
   "cell_type": "code",
   "execution_count": null,
   "id": "4f8f0160",
   "metadata": {},
   "outputs": [
    {
     "name": "stdout",
     "output_type": "stream",
     "text": [
      "Boolean(operator=<BooleanOperator.AND: ('∧', <function BooleanOperator.<lambda> at 0x75a3783e2200>)>, left=Boolean(operator=<BooleanOperator.AND: ('∧', <function BooleanOperator.<lambda> at 0x75a3783e2200>)>, left=Boolean(operator=<BooleanOperator.AND: ('∧', <function BooleanOperator.<lambda> at 0x75a3783e2200>)>, left=Boolean(operator=<BooleanOperator.AND: ('∧', <function BooleanOperator.<lambda> at 0x75a3783e2200>)>, left=Equality(operator=<EqualityOperator.EQ: ('=', <function EqualityOperator.<lambda> at 0x75a3783e2dd0>)>, left=Name(identifier='location_load_0'), right=IntegerConstant(integer=0)), right=Equality(operator=<EqualityOperator.EQ: ('=', <function EqualityOperator.<lambda> at 0x75a3783e2dd0>)>, left=Name(identifier='location_load_1'), right=IntegerConstant(integer=0))), right=Boolean(operator=<BooleanOperator.AND: ('∧', <function BooleanOperator.<lambda> at 0x75a3783e2200>)>, left=Equality(operator=<EqualityOperator.EQ: ('=', <function EqualityOperator.<lambda> at 0x75a3783e2dd0>)>, left=Name(identifier='location_load_2'), right=IntegerConstant(integer=0)), right=Boolean(operator=<BooleanOperator.AND: ('∧', <function BooleanOperator.<lambda> at 0x75a3783e2200>)>, left=Equality(operator=<EqualityOperator.EQ: ('=', <function EqualityOperator.<lambda> at 0x75a3783e2dd0>)>, left=Name(identifier='location_load_3'), right=IntegerConstant(integer=0)), right=Equality(operator=<EqualityOperator.EQ: ('=', <function EqualityOperator.<lambda> at 0x75a3783e2dd0>)>, left=Name(identifier='location_load_4'), right=IntegerConstant(integer=0))))), right=Boolean(operator=<BooleanOperator.AND: ('∧', <function BooleanOperator.<lambda> at 0x75a3783e2200>)>, left=Boolean(operator=<BooleanOperator.AND: ('∧', <function BooleanOperator.<lambda> at 0x75a3783e2200>)>, left=Equality(operator=<EqualityOperator.EQ: ('=', <function EqualityOperator.<lambda> at 0x75a3783e2dd0>)>, left=Name(identifier='location_load_5'), right=IntegerConstant(integer=0)), right=Boolean(operator=<BooleanOperator.AND: ('∧', <function BooleanOperator.<lambda> at 0x75a3783e2200>)>, left=Equality(operator=<EqualityOperator.EQ: ('=', <function EqualityOperator.<lambda> at 0x75a3783e2dd0>)>, left=Name(identifier='location_load_6'), right=IntegerConstant(integer=0)), right=Equality(operator=<EqualityOperator.EQ: ('=', <function EqualityOperator.<lambda> at 0x75a3783e2dd0>)>, left=Name(identifier='location_load_7'), right=IntegerConstant(integer=0)))), right=Boolean(operator=<BooleanOperator.AND: ('∧', <function BooleanOperator.<lambda> at 0x75a3783e2200>)>, left=Equality(operator=<EqualityOperator.EQ: ('=', <function EqualityOperator.<lambda> at 0x75a3783e2dd0>)>, left=Name(identifier='location_load_8'), right=IntegerConstant(integer=0)), right=Boolean(operator=<BooleanOperator.AND: ('∧', <function BooleanOperator.<lambda> at 0x75a3783e2200>)>, left=Equality(operator=<EqualityOperator.EQ: ('=', <function EqualityOperator.<lambda> at 0x75a3783e2dd0>)>, left=Name(identifier='location_load_9'), right=IntegerConstant(integer=17)), right=Equality(operator=<EqualityOperator.EQ: ('=', <function EqualityOperator.<lambda> at 0x75a3783e2dd0>)>, left=Name(identifier='truck_0'), right=IntegerConstant(integer=9)))))), right=Comparison(operator=<ComparisonOperator.LE: ('≤', False, <function ComparisonOperator.<lambda> at 0x75a3783e3130>)>, left=IntegerConstant(integer=0), right=Name(identifier='aux_vel')))\n"
     ]
    }
   ],
   "source": [
    "print(exp)"
   ]
  }
 ],
 "metadata": {
  "kernelspec": {
   "display_name": "python3.10",
   "language": "python",
   "name": "python3"
  },
  "language_info": {
   "codemirror_mode": {
    "name": "ipython",
    "version": 3
   },
   "file_extension": ".py",
   "mimetype": "text/x-python",
   "name": "python",
   "nbconvert_exporter": "python",
   "pygments_lexer": "ipython3",
   "version": "3.10.16"
  }
 },
 "nbformat": 4,
 "nbformat_minor": 5
}
